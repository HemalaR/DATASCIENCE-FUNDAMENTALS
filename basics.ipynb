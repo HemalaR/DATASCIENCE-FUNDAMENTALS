{
 "cells": [
  {
   "cell_type": "code",
   "execution_count": 1,
   "id": "6bce3a91",
   "metadata": {},
   "outputs": [],
   "source": [
    "a=10"
   ]
  },
  {
   "cell_type": "code",
   "execution_count": 2,
   "id": "ccb9803a",
   "metadata": {},
   "outputs": [],
   "source": [
    "b=10.0"
   ]
  },
  {
   "cell_type": "code",
   "execution_count": 3,
   "id": "d52ee25c",
   "metadata": {},
   "outputs": [
    {
     "data": {
      "text/plain": [
       "10"
      ]
     },
     "execution_count": 3,
     "metadata": {},
     "output_type": "execute_result"
    }
   ],
   "source": [
    "a"
   ]
  },
  {
   "cell_type": "code",
   "execution_count": 4,
   "id": "8fb4a7e5",
   "metadata": {},
   "outputs": [
    {
     "data": {
      "text/plain": [
       "10.0"
      ]
     },
     "execution_count": 4,
     "metadata": {},
     "output_type": "execute_result"
    }
   ],
   "source": [
    "b"
   ]
  },
  {
   "cell_type": "code",
   "execution_count": 5,
   "id": "b91b284e",
   "metadata": {},
   "outputs": [
    {
     "data": {
      "text/plain": [
       "-30"
      ]
     },
     "execution_count": 5,
     "metadata": {},
     "output_type": "execute_result"
    }
   ],
   "source": [
    "10+20-30*2"
   ]
  },
  {
   "cell_type": "code",
   "execution_count": 6,
   "id": "2dd4bfeb",
   "metadata": {},
   "outputs": [],
   "source": [
    "str=\"hello welcome\""
   ]
  },
  {
   "cell_type": "code",
   "execution_count": 7,
   "id": "c68025c0",
   "metadata": {},
   "outputs": [
    {
     "data": {
      "text/plain": [
       "'hello welcome'"
      ]
     },
     "execution_count": 7,
     "metadata": {},
     "output_type": "execute_result"
    }
   ],
   "source": [
    "str"
   ]
  },
  {
   "cell_type": "code",
   "execution_count": 8,
   "id": "9b96582b",
   "metadata": {},
   "outputs": [],
   "source": [
    "str='hello'"
   ]
  },
  {
   "cell_type": "code",
   "execution_count": 9,
   "id": "478bec17",
   "metadata": {},
   "outputs": [
    {
     "data": {
      "text/plain": [
       "'hello'"
      ]
     },
     "execution_count": 9,
     "metadata": {},
     "output_type": "execute_result"
    }
   ],
   "source": [
    "str"
   ]
  },
  {
   "cell_type": "code",
   "execution_count": 10,
   "id": "ec991fb9",
   "metadata": {},
   "outputs": [
    {
     "data": {
      "text/plain": [
       "'h'"
      ]
     },
     "execution_count": 10,
     "metadata": {},
     "output_type": "execute_result"
    }
   ],
   "source": [
    "str[0]"
   ]
  },
  {
   "cell_type": "code",
   "execution_count": 11,
   "id": "4e00928d",
   "metadata": {},
   "outputs": [
    {
     "data": {
      "text/plain": [
       "'e'"
      ]
     },
     "execution_count": 11,
     "metadata": {},
     "output_type": "execute_result"
    }
   ],
   "source": [
    "str[1]"
   ]
  },
  {
   "cell_type": "code",
   "execution_count": 12,
   "id": "5b7e4213",
   "metadata": {},
   "outputs": [
    {
     "data": {
      "text/plain": [
       "5"
      ]
     },
     "execution_count": 12,
     "metadata": {},
     "output_type": "execute_result"
    }
   ],
   "source": [
    "len(str)"
   ]
  },
  {
   "cell_type": "code",
   "execution_count": 13,
   "id": "be9d6a81",
   "metadata": {},
   "outputs": [
    {
     "data": {
      "text/plain": [
       "'o'"
      ]
     },
     "execution_count": 13,
     "metadata": {},
     "output_type": "execute_result"
    }
   ],
   "source": [
    "str[-1]"
   ]
  },
  {
   "cell_type": "code",
   "execution_count": 14,
   "id": "12db34e2",
   "metadata": {},
   "outputs": [],
   "source": [
    "str='hello welcome'"
   ]
  },
  {
   "cell_type": "code",
   "execution_count": 15,
   "id": "58c4ffa2",
   "metadata": {},
   "outputs": [
    {
     "data": {
      "text/plain": [
       "'e'"
      ]
     },
     "execution_count": 15,
     "metadata": {},
     "output_type": "execute_result"
    }
   ],
   "source": [
    "str[-1]"
   ]
  },
  {
   "cell_type": "code",
   "execution_count": 16,
   "id": "7143495a",
   "metadata": {},
   "outputs": [
    {
     "data": {
      "text/plain": [
       "'e'"
      ]
     },
     "execution_count": 16,
     "metadata": {},
     "output_type": "execute_result"
    }
   ],
   "source": [
    "str[12]"
   ]
  },
  {
   "cell_type": "code",
   "execution_count": 17,
   "id": "048b2271",
   "metadata": {},
   "outputs": [
    {
     "data": {
      "text/plain": [
       "13"
      ]
     },
     "execution_count": 17,
     "metadata": {},
     "output_type": "execute_result"
    }
   ],
   "source": [
    "len(str)"
   ]
  },
  {
   "cell_type": "code",
   "execution_count": 18,
   "id": "2c422a99",
   "metadata": {},
   "outputs": [
    {
     "data": {
      "text/plain": [
       "'hello'"
      ]
     },
     "execution_count": 18,
     "metadata": {},
     "output_type": "execute_result"
    }
   ],
   "source": [
    "str[0:5]"
   ]
  },
  {
   "cell_type": "code",
   "execution_count": 19,
   "id": "3b3361be",
   "metadata": {},
   "outputs": [
    {
     "data": {
      "text/plain": [
       "'hello '"
      ]
     },
     "execution_count": 19,
     "metadata": {},
     "output_type": "execute_result"
    }
   ],
   "source": [
    "str[0:6]"
   ]
  },
  {
   "cell_type": "code",
   "execution_count": 20,
   "id": "bc87d02f",
   "metadata": {},
   "outputs": [
    {
     "data": {
      "text/plain": [
       "''"
      ]
     },
     "execution_count": 20,
     "metadata": {},
     "output_type": "execute_result"
    }
   ],
   "source": [
    "str[-1:-7]"
   ]
  },
  {
   "cell_type": "code",
   "execution_count": 21,
   "id": "33cc991d",
   "metadata": {},
   "outputs": [
    {
     "data": {
      "text/plain": [
       "' welcom'"
      ]
     },
     "execution_count": 21,
     "metadata": {},
     "output_type": "execute_result"
    }
   ],
   "source": [
    "str[-8:-1]"
   ]
  },
  {
   "cell_type": "code",
   "execution_count": 22,
   "id": "ab9880be",
   "metadata": {},
   "outputs": [
    {
     "data": {
      "text/plain": [
       "'welcome'"
      ]
     },
     "execution_count": 22,
     "metadata": {},
     "output_type": "execute_result"
    }
   ],
   "source": [
    "str[-7::]"
   ]
  },
  {
   "cell_type": "code",
   "execution_count": 23,
   "id": "81f75c87",
   "metadata": {},
   "outputs": [],
   "source": [
    "str='hello welcome you all'"
   ]
  },
  {
   "cell_type": "code",
   "execution_count": 24,
   "id": "017c487e",
   "metadata": {},
   "outputs": [
    {
     "data": {
      "text/plain": [
       "'hello welcome you all'"
      ]
     },
     "execution_count": 24,
     "metadata": {},
     "output_type": "execute_result"
    }
   ],
   "source": [
    "str"
   ]
  },
  {
   "cell_type": "code",
   "execution_count": 25,
   "id": "ccf93ddf",
   "metadata": {},
   "outputs": [
    {
     "data": {
      "text/plain": [
       "'hello welcome you allhello welcome you all'"
      ]
     },
     "execution_count": 25,
     "metadata": {},
     "output_type": "execute_result"
    }
   ],
   "source": [
    "str*2"
   ]
  },
  {
   "cell_type": "code",
   "execution_count": 26,
   "id": "c8082176",
   "metadata": {},
   "outputs": [
    {
     "data": {
      "text/plain": [
       "21"
      ]
     },
     "execution_count": 26,
     "metadata": {},
     "output_type": "execute_result"
    }
   ],
   "source": [
    "len(str)"
   ]
  },
  {
   "cell_type": "code",
   "execution_count": 27,
   "id": "ac094243",
   "metadata": {},
   "outputs": [
    {
     "data": {
      "text/plain": [
       "0"
      ]
     },
     "execution_count": 27,
     "metadata": {},
     "output_type": "execute_result"
    }
   ],
   "source": [
    "str.find('hel')"
   ]
  },
  {
   "cell_type": "code",
   "execution_count": 28,
   "id": "ab280af4",
   "metadata": {},
   "outputs": [
    {
     "data": {
      "text/plain": [
       "9"
      ]
     },
     "execution_count": 28,
     "metadata": {},
     "output_type": "execute_result"
    }
   ],
   "source": [
    "str.find('come')"
   ]
  },
  {
   "cell_type": "code",
   "execution_count": 29,
   "id": "f0cf20dc",
   "metadata": {},
   "outputs": [
    {
     "data": {
      "text/plain": [
       "-1"
      ]
     },
     "execution_count": 29,
     "metadata": {},
     "output_type": "execute_result"
    }
   ],
   "source": [
    "str.find('cse')"
   ]
  },
  {
   "cell_type": "code",
   "execution_count": 30,
   "id": "f57ae714",
   "metadata": {},
   "outputs": [
    {
     "data": {
      "text/plain": [
       "'HELLO WELCOME YOU ALL'"
      ]
     },
     "execution_count": 30,
     "metadata": {},
     "output_type": "execute_result"
    }
   ],
   "source": [
    "str.upper()"
   ]
  },
  {
   "cell_type": "code",
   "execution_count": 31,
   "id": "7fa2a27d",
   "metadata": {},
   "outputs": [
    {
     "data": {
      "text/plain": [
       "'hello welcome you all'"
      ]
     },
     "execution_count": 31,
     "metadata": {},
     "output_type": "execute_result"
    }
   ],
   "source": [
    "str.lower()"
   ]
  },
  {
   "cell_type": "code",
   "execution_count": 32,
   "id": "f89f7314",
   "metadata": {},
   "outputs": [
    {
     "data": {
      "text/plain": [
       "'all'"
      ]
     },
     "execution_count": 32,
     "metadata": {},
     "output_type": "execute_result"
    }
   ],
   "source": [
    "str[-3::]"
   ]
  },
  {
   "cell_type": "code",
   "execution_count": 33,
   "id": "d41b51e3",
   "metadata": {},
   "outputs": [
    {
     "data": {
      "text/plain": [
       "'hlowloeyual'"
      ]
     },
     "execution_count": 33,
     "metadata": {},
     "output_type": "execute_result"
    }
   ],
   "source": [
    "str[0::2]"
   ]
  },
  {
   "cell_type": "code",
   "execution_count": 34,
   "id": "84d5fa68",
   "metadata": {},
   "outputs": [
    {
     "data": {
      "text/plain": [
       "True"
      ]
     },
     "execution_count": 34,
     "metadata": {},
     "output_type": "execute_result"
    }
   ],
   "source": [
    "'hello' in str"
   ]
  },
  {
   "cell_type": "code",
   "execution_count": 35,
   "id": "d8e46f96",
   "metadata": {},
   "outputs": [
    {
     "data": {
      "text/plain": [
       "''"
      ]
     },
     "execution_count": 35,
     "metadata": {},
     "output_type": "execute_result"
    }
   ],
   "source": [
    "str[2:len(str)-4+4+2-3*2-15]"
   ]
  },
  {
   "cell_type": "code",
   "execution_count": 38,
   "id": "6e81f054",
   "metadata": {},
   "outputs": [
    {
     "name": "stdout",
     "output_type": "stream",
     "text": [
      "1\n",
      "2\n",
      "3\n",
      "4\n",
      "5\n",
      "6\n",
      "7\n",
      "8\n",
      "9\n",
      "10\n"
     ]
    }
   ],
   "source": [
    "for i in range(1,11):\n",
    "    print(i)"
   ]
  },
  {
   "cell_type": "code",
   "execution_count": 39,
   "id": "b30150f9",
   "metadata": {},
   "outputs": [
    {
     "name": "stdout",
     "output_type": "stream",
     "text": [
      "1 2 3 4 5 6 7 8 9 10 11 12 13 14 15 16 17 18 19 20 21 22 23 24 25 "
     ]
    }
   ],
   "source": [
    "for i in range(1,26):\n",
    "    print(i,end=' ')"
   ]
  },
  {
   "cell_type": "code",
   "execution_count": 40,
   "id": "08fe94ab",
   "metadata": {},
   "outputs": [
    {
     "name": "stdout",
     "output_type": "stream",
     "text": [
      "1 3 5 7 9 "
     ]
    }
   ],
   "source": [
    "for i in range(1,11):\n",
    "    if i%2!=0:\n",
    "        print(i,end=' ')"
   ]
  },
  {
   "cell_type": "code",
   "execution_count": 41,
   "id": "ee6ab61e",
   "metadata": {},
   "outputs": [
    {
     "name": "stdout",
     "output_type": "stream",
     "text": [
      "1\n",
      "3\n",
      "5\n",
      "7\n",
      "9\n"
     ]
    }
   ],
   "source": [
    "for i in range(1,11,2):\n",
    "    print(i)"
   ]
  },
  {
   "cell_type": "code",
   "execution_count": 42,
   "id": "4797ff5b",
   "metadata": {},
   "outputs": [
    {
     "name": "stdout",
     "output_type": "stream",
     "text": [
      "2\n",
      "4\n",
      "6\n",
      "8\n",
      "10\n"
     ]
    }
   ],
   "source": [
    "for i in range(2,11,2):\n",
    "    print(i)"
   ]
  },
  {
   "cell_type": "code",
   "execution_count": 44,
   "id": "7cdfc2a8",
   "metadata": {},
   "outputs": [],
   "source": [
    "l1=[12,15,39.54,'hello',[12,39,25,[34,'welcome',55],'cse']]"
   ]
  },
  {
   "cell_type": "code",
   "execution_count": 45,
   "id": "1b5200f8",
   "metadata": {},
   "outputs": [
    {
     "data": {
      "text/plain": [
       "[12, 15, 39.54, 'hello', [12, 39, 25, [34, 'welcome', 55], 'cse']]"
      ]
     },
     "execution_count": 45,
     "metadata": {},
     "output_type": "execute_result"
    }
   ],
   "source": [
    "l1"
   ]
  },
  {
   "cell_type": "code",
   "execution_count": 46,
   "id": "7d2f122e",
   "metadata": {},
   "outputs": [
    {
     "data": {
      "text/plain": [
       "12"
      ]
     },
     "execution_count": 46,
     "metadata": {},
     "output_type": "execute_result"
    }
   ],
   "source": [
    "l1[0]"
   ]
  },
  {
   "cell_type": "code",
   "execution_count": 47,
   "id": "b6ff3b70",
   "metadata": {},
   "outputs": [
    {
     "data": {
      "text/plain": [
       "[12, 39, 25, [34, 'welcome', 55], 'cse']"
      ]
     },
     "execution_count": 47,
     "metadata": {},
     "output_type": "execute_result"
    }
   ],
   "source": [
    "l1[4]"
   ]
  },
  {
   "cell_type": "code",
   "execution_count": 48,
   "id": "a1948f7d",
   "metadata": {},
   "outputs": [
    {
     "data": {
      "text/plain": [
       "[12, 39, 25, [34, 'welcome', 55], 'cse']"
      ]
     },
     "execution_count": 48,
     "metadata": {},
     "output_type": "execute_result"
    }
   ],
   "source": [
    "l1[4]"
   ]
  },
  {
   "cell_type": "code",
   "execution_count": 49,
   "id": "6e8a4cdf",
   "metadata": {},
   "outputs": [
    {
     "data": {
      "text/plain": [
       "[34, 'welcome', 55]"
      ]
     },
     "execution_count": 49,
     "metadata": {},
     "output_type": "execute_result"
    }
   ],
   "source": [
    "l1[4][3]"
   ]
  },
  {
   "cell_type": "code",
   "execution_count": 50,
   "id": "ec87aa76",
   "metadata": {},
   "outputs": [
    {
     "data": {
      "text/plain": [
       "'come'"
      ]
     },
     "execution_count": 50,
     "metadata": {},
     "output_type": "execute_result"
    }
   ],
   "source": [
    "l1[4][3][1][3:]"
   ]
  },
  {
   "cell_type": "code",
   "execution_count": 52,
   "id": "219f76a9",
   "metadata": {},
   "outputs": [
    {
     "name": "stdout",
     "output_type": "stream",
     "text": [
      "cse\n"
     ]
    }
   ],
   "source": [
    "str1='cse'\n",
    "print(str1)"
   ]
  },
  {
   "cell_type": "code",
   "execution_count": 53,
   "id": "a1343408",
   "metadata": {},
   "outputs": [
    {
     "data": {
      "text/plain": [
       "'hello welcome you allcse'"
      ]
     },
     "execution_count": 53,
     "metadata": {},
     "output_type": "execute_result"
    }
   ],
   "source": [
    "str+str1"
   ]
  },
  {
   "cell_type": "code",
   "execution_count": 54,
   "id": "94062daa",
   "metadata": {},
   "outputs": [
    {
     "data": {
      "text/plain": [
       "'hello cse you all'"
      ]
     },
     "execution_count": 54,
     "metadata": {},
     "output_type": "execute_result"
    }
   ],
   "source": [
    "str.replace('welcome',str1)"
   ]
  },
  {
   "cell_type": "code",
   "execution_count": 55,
   "id": "2d975a01",
   "metadata": {},
   "outputs": [
    {
     "data": {
      "text/plain": [
       "[12, 15, 39.54, 'hello', [12, 39, 25, [34, 'welcome', 55], 'cse']]"
      ]
     },
     "execution_count": 55,
     "metadata": {},
     "output_type": "execute_result"
    }
   ],
   "source": [
    "l1"
   ]
  },
  {
   "cell_type": "code",
   "execution_count": 56,
   "id": "42e8e005",
   "metadata": {},
   "outputs": [],
   "source": [
    "l1[4][3][1]='come'"
   ]
  },
  {
   "cell_type": "code",
   "execution_count": 57,
   "id": "bf7b1724",
   "metadata": {},
   "outputs": [
    {
     "data": {
      "text/plain": [
       "[12, 15, 39.54, 'hello', [12, 39, 25, [34, 'come', 55], 'cse']]"
      ]
     },
     "execution_count": 57,
     "metadata": {},
     "output_type": "execute_result"
    }
   ],
   "source": [
    "l1"
   ]
  },
  {
   "cell_type": "code",
   "execution_count": 58,
   "id": "e3c7a39a",
   "metadata": {},
   "outputs": [],
   "source": [
    "l1.append('welcome')"
   ]
  },
  {
   "cell_type": "code",
   "execution_count": 59,
   "id": "cf86592e",
   "metadata": {},
   "outputs": [
    {
     "data": {
      "text/plain": [
       "[12, 15, 39.54, 'hello', [12, 39, 25, [34, 'come', 55], 'cse'], 'welcome']"
      ]
     },
     "execution_count": 59,
     "metadata": {},
     "output_type": "execute_result"
    }
   ],
   "source": [
    "l1"
   ]
  },
  {
   "cell_type": "code",
   "execution_count": 60,
   "id": "07542c24",
   "metadata": {},
   "outputs": [],
   "source": [
    "l1.insert(4,'welcome')"
   ]
  },
  {
   "cell_type": "code",
   "execution_count": 61,
   "id": "fa6e7a38",
   "metadata": {},
   "outputs": [
    {
     "data": {
      "text/plain": [
       "[12,\n",
       " 15,\n",
       " 39.54,\n",
       " 'hello',\n",
       " 'welcome',\n",
       " [12, 39, 25, [34, 'come', 55], 'cse'],\n",
       " 'welcome']"
      ]
     },
     "execution_count": 61,
     "metadata": {},
     "output_type": "execute_result"
    }
   ],
   "source": [
    "l1"
   ]
  },
  {
   "cell_type": "code",
   "execution_count": 63,
   "id": "73dc71bb",
   "metadata": {},
   "outputs": [
    {
     "name": "stdout",
     "output_type": "stream",
     "text": [
      "[12, 15, 39.54, 'hello', [12, 39, 25, [34, 'come', 55], 'cse'], 'welcome']\n"
     ]
    }
   ],
   "source": [
    "print(l1)"
   ]
  },
  {
   "cell_type": "code",
   "execution_count": 68,
   "id": "d7abcfed",
   "metadata": {},
   "outputs": [
    {
     "data": {
      "text/plain": [
       "39.54"
      ]
     },
     "execution_count": 68,
     "metadata": {},
     "output_type": "execute_result"
    }
   ],
   "source": [
    "l1[2]"
   ]
  },
  {
   "cell_type": "code",
   "execution_count": 69,
   "id": "772efbd4",
   "metadata": {},
   "outputs": [
    {
     "name": "stdout",
     "output_type": "stream",
     "text": [
      "0.5399999999999991\n"
     ]
    }
   ],
   "source": [
    "print(39.54-39)"
   ]
  },
  {
   "cell_type": "code",
   "execution_count": 70,
   "id": "aea2a620",
   "metadata": {},
   "outputs": [
    {
     "data": {
      "text/plain": [
       "'hello welcome you all'"
      ]
     },
     "execution_count": 70,
     "metadata": {},
     "output_type": "execute_result"
    }
   ],
   "source": [
    "str"
   ]
  },
  {
   "cell_type": "code",
   "execution_count": 71,
   "id": "647e444d",
   "metadata": {},
   "outputs": [
    {
     "data": {
      "text/plain": [
       "['hello', 'welcome', 'you', 'all']"
      ]
     },
     "execution_count": 71,
     "metadata": {},
     "output_type": "execute_result"
    }
   ],
   "source": [
    "str.split(' ',3)"
   ]
  },
  {
   "cell_type": "code",
   "execution_count": 72,
   "id": "d5a4fb9a",
   "metadata": {},
   "outputs": [
    {
     "name": "stdout",
     "output_type": "stream",
     "text": [
      "{'name': 'ab', 'address': 'chennai', 'mob': 8889995553}\n"
     ]
    }
   ],
   "source": [
    "dict={'name':'ab','address':'chennai','mob':8889995553}\n",
    "print(dict)"
   ]
  },
  {
   "cell_type": "code",
   "execution_count": 73,
   "id": "6d4d3baa",
   "metadata": {},
   "outputs": [
    {
     "data": {
      "text/plain": [
       "{'name': 'ab', 'address': 'chennai', 'mob': 8889995553}"
      ]
     },
     "execution_count": 73,
     "metadata": {},
     "output_type": "execute_result"
    }
   ],
   "source": [
    "dict"
   ]
  },
  {
   "cell_type": "code",
   "execution_count": 74,
   "id": "77f7f071",
   "metadata": {},
   "outputs": [],
   "source": [
    "set={0,0,9}"
   ]
  },
  {
   "cell_type": "code",
   "execution_count": 75,
   "id": "53a078b7",
   "metadata": {},
   "outputs": [
    {
     "data": {
      "text/plain": [
       "{0, 9}"
      ]
     },
     "execution_count": 75,
     "metadata": {},
     "output_type": "execute_result"
    }
   ],
   "source": [
    "set"
   ]
  },
  {
   "cell_type": "code",
   "execution_count": 76,
   "id": "c6df7081",
   "metadata": {},
   "outputs": [
    {
     "data": {
      "text/plain": [
       "'ab'"
      ]
     },
     "execution_count": 76,
     "metadata": {},
     "output_type": "execute_result"
    }
   ],
   "source": [
    "dict['name']"
   ]
  },
  {
   "cell_type": "code",
   "execution_count": 77,
   "id": "a3cc3549",
   "metadata": {},
   "outputs": [
    {
     "data": {
      "text/plain": [
       "3"
      ]
     },
     "execution_count": 77,
     "metadata": {},
     "output_type": "execute_result"
    }
   ],
   "source": [
    "len(dict)"
   ]
  },
  {
   "cell_type": "code",
   "execution_count": 78,
   "id": "0fac0e3c",
   "metadata": {},
   "outputs": [],
   "source": [
    "dict1=dict.copy()"
   ]
  },
  {
   "cell_type": "code",
   "execution_count": 79,
   "id": "98e84ebb",
   "metadata": {},
   "outputs": [
    {
     "data": {
      "text/plain": [
       "{'name': 'ab', 'address': 'chennai', 'mob': 8889995553}"
      ]
     },
     "execution_count": 79,
     "metadata": {},
     "output_type": "execute_result"
    }
   ],
   "source": [
    "dict1"
   ]
  },
  {
   "cell_type": "code",
   "execution_count": 80,
   "id": "8b2793d8",
   "metadata": {},
   "outputs": [
    {
     "data": {
      "text/plain": [
       "dict_keys(['name', 'address', 'mob'])"
      ]
     },
     "execution_count": 80,
     "metadata": {},
     "output_type": "execute_result"
    }
   ],
   "source": [
    "dict.keys()"
   ]
  },
  {
   "cell_type": "code",
   "execution_count": 81,
   "id": "3699ff05",
   "metadata": {},
   "outputs": [
    {
     "name": "stdout",
     "output_type": "stream",
     "text": [
      "welcome welcome welcome welcome welcome welcome welcome welcome welcome welcome "
     ]
    }
   ],
   "source": [
    "i=0\n",
    "while(i<10):\n",
    "    print(\"welcome\",end=' ')\n",
    "    i+=1"
   ]
  },
  {
   "cell_type": "code",
   "execution_count": 83,
   "id": "d55e62ca",
   "metadata": {},
   "outputs": [
    {
     "name": "stdout",
     "output_type": "stream",
     "text": [
      "hello welcome you all\n"
     ]
    }
   ],
   "source": [
    "def toprint():\n",
    "    print(str)\n",
    "    return\n",
    "toprint()"
   ]
  },
  {
   "cell_type": "code",
   "execution_count": 84,
   "id": "fcc158d1",
   "metadata": {},
   "outputs": [],
   "source": [
    "str='hello'"
   ]
  },
  {
   "cell_type": "code",
   "execution_count": 85,
   "id": "403a1c91",
   "metadata": {},
   "outputs": [
    {
     "data": {
      "text/plain": [
       "'hello'"
      ]
     },
     "execution_count": 85,
     "metadata": {},
     "output_type": "execute_result"
    }
   ],
   "source": [
    "str"
   ]
  },
  {
   "cell_type": "code",
   "execution_count": 86,
   "id": "ed1f7da2",
   "metadata": {},
   "outputs": [
    {
     "name": "stdout",
     "output_type": "stream",
     "text": [
      "hellohellohellohellohellohellohellohellohellohello "
     ]
    }
   ],
   "source": [
    "a=10\n",
    "def toprint(str):\n",
    "    print(str*a,end=' ')\n",
    "    return\n",
    "toprint(str)"
   ]
  },
  {
   "cell_type": "code",
   "execution_count": null,
   "id": "4208e199",
   "metadata": {},
   "outputs": [],
   "source": []
  }
 ],
 "metadata": {
  "kernelspec": {
   "display_name": "Python 3 (ipykernel)",
   "language": "python",
   "name": "python3"
  },
  "language_info": {
   "codemirror_mode": {
    "name": "ipython",
    "version": 3
   },
   "file_extension": ".py",
   "mimetype": "text/x-python",
   "name": "python",
   "nbconvert_exporter": "python",
   "pygments_lexer": "ipython3",
   "version": "3.9.13"
  }
 },
 "nbformat": 4,
 "nbformat_minor": 5
}
