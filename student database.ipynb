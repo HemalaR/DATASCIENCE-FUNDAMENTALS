{
 "cells": [
  {
   "cell_type": "code",
   "execution_count": 7,
   "id": "dd337591",
   "metadata": {},
   "outputs": [],
   "source": [
    "import numpy as np\n",
    "import seaborn as sns\n",
    "import pandas as pd\n",
    "import matplotlib.pyplot as plt"
   ]
  },
  {
   "cell_type": "code",
   "execution_count": 9,
   "id": "47827a14",
   "metadata": {},
   "outputs": [],
   "source": [
    "df=pd.read_csv(\"D:\\CSEA1final.csv\")"
   ]
  },
  {
   "cell_type": "code",
   "execution_count": 10,
   "id": "1ef322a7",
   "metadata": {},
   "outputs": [
    {
     "data": {
      "text/html": [
       "<div>\n",
       "<style scoped>\n",
       "    .dataframe tbody tr th:only-of-type {\n",
       "        vertical-align: middle;\n",
       "    }\n",
       "\n",
       "    .dataframe tbody tr th {\n",
       "        vertical-align: top;\n",
       "    }\n",
       "\n",
       "    .dataframe thead th {\n",
       "        text-align: right;\n",
       "    }\n",
       "</style>\n",
       "<table border=\"1\" class=\"dataframe\">\n",
       "  <thead>\n",
       "    <tr style=\"text-align: right;\">\n",
       "      <th></th>\n",
       "      <th>Register Number</th>\n",
       "      <th>Section</th>\n",
       "      <th>G/M</th>\n",
       "      <th>D/H</th>\n",
       "      <th>M/F</th>\n",
       "      <th>20CS601 CD</th>\n",
       "      <th>20CS602 CNS</th>\n",
       "      <th>20CS603 MC</th>\n",
       "      <th>20AI502 ML</th>\n",
       "      <th>20CS917 DS</th>\n",
       "      <th>20CS918 GC</th>\n",
       "      <th>TOTAL</th>\n",
       "      <th>Percentage</th>\n",
       "      <th>P / F</th>\n",
       "      <th>No. of  Sub.Failed</th>\n",
       "      <th>Total No. of  Days Attended</th>\n",
       "      <th>Attendance</th>\n",
       "    </tr>\n",
       "  </thead>\n",
       "  <tbody>\n",
       "    <tr>\n",
       "      <th>0</th>\n",
       "      <td>5001</td>\n",
       "      <td>A</td>\n",
       "      <td>M</td>\n",
       "      <td>D</td>\n",
       "      <td>M</td>\n",
       "      <td>40.0</td>\n",
       "      <td>30.0</td>\n",
       "      <td>31.0</td>\n",
       "      <td>62.0</td>\n",
       "      <td>34.0</td>\n",
       "      <td>50.0</td>\n",
       "      <td>247</td>\n",
       "      <td>41</td>\n",
       "      <td>F</td>\n",
       "      <td>4</td>\n",
       "      <td>34</td>\n",
       "      <td>92</td>\n",
       "    </tr>\n",
       "    <tr>\n",
       "      <th>1</th>\n",
       "      <td>5002</td>\n",
       "      <td>A</td>\n",
       "      <td>G</td>\n",
       "      <td>D</td>\n",
       "      <td>M</td>\n",
       "      <td>24.0</td>\n",
       "      <td>35.0</td>\n",
       "      <td>38.0</td>\n",
       "      <td>50.0</td>\n",
       "      <td>50.0</td>\n",
       "      <td>5.0</td>\n",
       "      <td>202</td>\n",
       "      <td>34</td>\n",
       "      <td>F</td>\n",
       "      <td>4</td>\n",
       "      <td>31</td>\n",
       "      <td>84</td>\n",
       "    </tr>\n",
       "    <tr>\n",
       "      <th>2</th>\n",
       "      <td>5003</td>\n",
       "      <td>A</td>\n",
       "      <td>M</td>\n",
       "      <td>D</td>\n",
       "      <td>M</td>\n",
       "      <td>67.0</td>\n",
       "      <td>74.0</td>\n",
       "      <td>61.0</td>\n",
       "      <td>68.0</td>\n",
       "      <td>50.0</td>\n",
       "      <td>59.0</td>\n",
       "      <td>379</td>\n",
       "      <td>63</td>\n",
       "      <td>P</td>\n",
       "      <td>0</td>\n",
       "      <td>35</td>\n",
       "      <td>95</td>\n",
       "    </tr>\n",
       "    <tr>\n",
       "      <th>3</th>\n",
       "      <td>5004</td>\n",
       "      <td>A</td>\n",
       "      <td>M</td>\n",
       "      <td>D</td>\n",
       "      <td>F</td>\n",
       "      <td>76.0</td>\n",
       "      <td>82.0</td>\n",
       "      <td>70.0</td>\n",
       "      <td>78.0</td>\n",
       "      <td>83.0</td>\n",
       "      <td>72.0</td>\n",
       "      <td>461</td>\n",
       "      <td>77</td>\n",
       "      <td>P</td>\n",
       "      <td>0</td>\n",
       "      <td>34</td>\n",
       "      <td>92</td>\n",
       "    </tr>\n",
       "    <tr>\n",
       "      <th>4</th>\n",
       "      <td>5005</td>\n",
       "      <td>A</td>\n",
       "      <td>M</td>\n",
       "      <td>D</td>\n",
       "      <td>M</td>\n",
       "      <td>0.0</td>\n",
       "      <td>7.0</td>\n",
       "      <td>22.0</td>\n",
       "      <td>6.0</td>\n",
       "      <td>17.0</td>\n",
       "      <td>6.0</td>\n",
       "      <td>58</td>\n",
       "      <td>10</td>\n",
       "      <td>F</td>\n",
       "      <td>6</td>\n",
       "      <td>27</td>\n",
       "      <td>73</td>\n",
       "    </tr>\n",
       "    <tr>\n",
       "      <th>...</th>\n",
       "      <td>...</td>\n",
       "      <td>...</td>\n",
       "      <td>...</td>\n",
       "      <td>...</td>\n",
       "      <td>...</td>\n",
       "      <td>...</td>\n",
       "      <td>...</td>\n",
       "      <td>...</td>\n",
       "      <td>...</td>\n",
       "      <td>...</td>\n",
       "      <td>...</td>\n",
       "      <td>...</td>\n",
       "      <td>...</td>\n",
       "      <td>...</td>\n",
       "      <td>...</td>\n",
       "      <td>...</td>\n",
       "      <td>...</td>\n",
       "    </tr>\n",
       "    <tr>\n",
       "      <th>60</th>\n",
       "      <td>5061</td>\n",
       "      <td>A</td>\n",
       "      <td>G</td>\n",
       "      <td>H</td>\n",
       "      <td>M</td>\n",
       "      <td>16.0</td>\n",
       "      <td>11.0</td>\n",
       "      <td>36.0</td>\n",
       "      <td>NaN</td>\n",
       "      <td>NaN</td>\n",
       "      <td>NaN</td>\n",
       "      <td>63</td>\n",
       "      <td>11</td>\n",
       "      <td>F</td>\n",
       "      <td>3</td>\n",
       "      <td>23</td>\n",
       "      <td>62</td>\n",
       "    </tr>\n",
       "    <tr>\n",
       "      <th>61</th>\n",
       "      <td>5062</td>\n",
       "      <td>A</td>\n",
       "      <td>M</td>\n",
       "      <td>H</td>\n",
       "      <td>M</td>\n",
       "      <td>75.0</td>\n",
       "      <td>69.0</td>\n",
       "      <td>77.0</td>\n",
       "      <td>58.0</td>\n",
       "      <td>50.0</td>\n",
       "      <td>66.0</td>\n",
       "      <td>395</td>\n",
       "      <td>66</td>\n",
       "      <td>P</td>\n",
       "      <td>0</td>\n",
       "      <td>37</td>\n",
       "      <td>100</td>\n",
       "    </tr>\n",
       "    <tr>\n",
       "      <th>62</th>\n",
       "      <td>5063</td>\n",
       "      <td>A</td>\n",
       "      <td>M</td>\n",
       "      <td>D</td>\n",
       "      <td>M</td>\n",
       "      <td>23.0</td>\n",
       "      <td>44.0</td>\n",
       "      <td>66.0</td>\n",
       "      <td>61.0</td>\n",
       "      <td>74.0</td>\n",
       "      <td>50.0</td>\n",
       "      <td>318</td>\n",
       "      <td>53</td>\n",
       "      <td>F</td>\n",
       "      <td>2</td>\n",
       "      <td>31</td>\n",
       "      <td>84</td>\n",
       "    </tr>\n",
       "    <tr>\n",
       "      <th>63</th>\n",
       "      <td>5064</td>\n",
       "      <td>A</td>\n",
       "      <td>M</td>\n",
       "      <td>D</td>\n",
       "      <td>M</td>\n",
       "      <td>35.0</td>\n",
       "      <td>40.0</td>\n",
       "      <td>62.0</td>\n",
       "      <td>58.0</td>\n",
       "      <td>32.0</td>\n",
       "      <td>50.0</td>\n",
       "      <td>277</td>\n",
       "      <td>46</td>\n",
       "      <td>F</td>\n",
       "      <td>3</td>\n",
       "      <td>35</td>\n",
       "      <td>95</td>\n",
       "    </tr>\n",
       "    <tr>\n",
       "      <th>64</th>\n",
       "      <td>5065</td>\n",
       "      <td>A</td>\n",
       "      <td>M</td>\n",
       "      <td>H</td>\n",
       "      <td>F</td>\n",
       "      <td>86.0</td>\n",
       "      <td>78.0</td>\n",
       "      <td>62.0</td>\n",
       "      <td>66.0</td>\n",
       "      <td>82.0</td>\n",
       "      <td>68.0</td>\n",
       "      <td>442</td>\n",
       "      <td>74</td>\n",
       "      <td>P</td>\n",
       "      <td>0</td>\n",
       "      <td>33</td>\n",
       "      <td>89</td>\n",
       "    </tr>\n",
       "  </tbody>\n",
       "</table>\n",
       "<p>65 rows × 17 columns</p>\n",
       "</div>"
      ],
      "text/plain": [
       "    Register Number Section G/M D/H M/F  20CS601 CD  20CS602 CNS  20CS603 MC  \\\n",
       "0              5001       A   M   D   M        40.0         30.0        31.0   \n",
       "1              5002       A   G   D   M        24.0         35.0        38.0   \n",
       "2              5003       A   M   D   M        67.0         74.0        61.0   \n",
       "3              5004       A   M   D   F        76.0         82.0        70.0   \n",
       "4              5005       A   M   D   M         0.0          7.0        22.0   \n",
       "..              ...     ...  ..  ..  ..         ...          ...         ...   \n",
       "60             5061       A   G   H   M        16.0         11.0        36.0   \n",
       "61             5062       A   M   H   M        75.0         69.0        77.0   \n",
       "62             5063       A   M   D   M        23.0         44.0        66.0   \n",
       "63             5064       A   M   D   M        35.0         40.0        62.0   \n",
       "64             5065       A   M   H   F        86.0         78.0        62.0   \n",
       "\n",
       "    20AI502 ML  20CS917 DS  20CS918 GC  TOTAL  Percentage P / F  \\\n",
       "0         62.0        34.0        50.0    247          41     F   \n",
       "1         50.0        50.0         5.0    202          34     F   \n",
       "2         68.0        50.0        59.0    379          63     P   \n",
       "3         78.0        83.0        72.0    461          77     P   \n",
       "4          6.0        17.0         6.0     58          10     F   \n",
       "..         ...         ...         ...    ...         ...   ...   \n",
       "60         NaN         NaN         NaN     63          11     F   \n",
       "61        58.0        50.0        66.0    395          66     P   \n",
       "62        61.0        74.0        50.0    318          53     F   \n",
       "63        58.0        32.0        50.0    277          46     F   \n",
       "64        66.0        82.0        68.0    442          74     P   \n",
       "\n",
       "    No. of  Sub.Failed  Total No. of  Days Attended  Attendance  \n",
       "0                    4                           34          92  \n",
       "1                    4                           31          84  \n",
       "2                    0                           35          95  \n",
       "3                    0                           34          92  \n",
       "4                    6                           27          73  \n",
       "..                 ...                          ...         ...  \n",
       "60                   3                           23          62  \n",
       "61                   0                           37         100  \n",
       "62                   2                           31          84  \n",
       "63                   3                           35          95  \n",
       "64                   0                           33          89  \n",
       "\n",
       "[65 rows x 17 columns]"
      ]
     },
     "execution_count": 10,
     "metadata": {},
     "output_type": "execute_result"
    }
   ],
   "source": [
    "df"
   ]
  },
  {
   "cell_type": "code",
   "execution_count": 11,
   "id": "1506f84c",
   "metadata": {},
   "outputs": [],
   "source": [
    "import warnings \n",
    "import sklearn\n",
    "from sklearn.cluster import KMeans"
   ]
  },
  {
   "cell_type": "code",
   "execution_count": 12,
   "id": "57edb8bd",
   "metadata": {},
   "outputs": [
    {
     "data": {
      "text/html": [
       "<div>\n",
       "<style scoped>\n",
       "    .dataframe tbody tr th:only-of-type {\n",
       "        vertical-align: middle;\n",
       "    }\n",
       "\n",
       "    .dataframe tbody tr th {\n",
       "        vertical-align: top;\n",
       "    }\n",
       "\n",
       "    .dataframe thead th {\n",
       "        text-align: right;\n",
       "    }\n",
       "</style>\n",
       "<table border=\"1\" class=\"dataframe\">\n",
       "  <thead>\n",
       "    <tr style=\"text-align: right;\">\n",
       "      <th></th>\n",
       "      <th>Register Number</th>\n",
       "      <th>20CS601 CD</th>\n",
       "      <th>20CS602 CNS</th>\n",
       "      <th>20CS603 MC</th>\n",
       "      <th>20AI502 ML</th>\n",
       "      <th>20CS917 DS</th>\n",
       "      <th>20CS918 GC</th>\n",
       "      <th>TOTAL</th>\n",
       "      <th>Percentage</th>\n",
       "      <th>No. of  Sub.Failed</th>\n",
       "      <th>Total No. of  Days Attended</th>\n",
       "      <th>Attendance</th>\n",
       "    </tr>\n",
       "    <tr>\n",
       "      <th>M/F</th>\n",
       "      <th></th>\n",
       "      <th></th>\n",
       "      <th></th>\n",
       "      <th></th>\n",
       "      <th></th>\n",
       "      <th></th>\n",
       "      <th></th>\n",
       "      <th></th>\n",
       "      <th></th>\n",
       "      <th></th>\n",
       "      <th></th>\n",
       "      <th></th>\n",
       "    </tr>\n",
       "  </thead>\n",
       "  <tbody>\n",
       "    <tr>\n",
       "      <th>F</th>\n",
       "      <td>5038.444444</td>\n",
       "      <td>79.777778</td>\n",
       "      <td>75.944444</td>\n",
       "      <td>67.500000</td>\n",
       "      <td>71.588235</td>\n",
       "      <td>74.611111</td>\n",
       "      <td>69.222222</td>\n",
       "      <td>434.666667</td>\n",
       "      <td>72.555556</td>\n",
       "      <td>0.222222</td>\n",
       "      <td>34.444444</td>\n",
       "      <td>93.111111</td>\n",
       "    </tr>\n",
       "    <tr>\n",
       "      <th>M</th>\n",
       "      <td>5030.914894</td>\n",
       "      <td>55.739130</td>\n",
       "      <td>55.608696</td>\n",
       "      <td>54.934783</td>\n",
       "      <td>53.000000</td>\n",
       "      <td>55.767442</td>\n",
       "      <td>51.244444</td>\n",
       "      <td>312.446809</td>\n",
       "      <td>52.106383</td>\n",
       "      <td>1.340426</td>\n",
       "      <td>32.255319</td>\n",
       "      <td>87.170213</td>\n",
       "    </tr>\n",
       "  </tbody>\n",
       "</table>\n",
       "</div>"
      ],
      "text/plain": [
       "     Register Number  20CS601 CD  20CS602 CNS  20CS603 MC  20AI502 ML  \\\n",
       "M/F                                                                     \n",
       "F        5038.444444   79.777778    75.944444   67.500000   71.588235   \n",
       "M        5030.914894   55.739130    55.608696   54.934783   53.000000   \n",
       "\n",
       "     20CS917 DS  20CS918 GC       TOTAL  Percentage  No. of  Sub.Failed  \\\n",
       "M/F                                                                       \n",
       "F     74.611111   69.222222  434.666667   72.555556            0.222222   \n",
       "M     55.767442   51.244444  312.446809   52.106383            1.340426   \n",
       "\n",
       "     Total No. of  Days Attended  Attendance  \n",
       "M/F                                           \n",
       "F                      34.444444   93.111111  \n",
       "M                      32.255319   87.170213  "
      ]
     },
     "execution_count": 12,
     "metadata": {},
     "output_type": "execute_result"
    }
   ],
   "source": [
    "df.groupby(['M/F']).mean()"
   ]
  },
  {
   "cell_type": "code",
   "execution_count": 13,
   "id": "75aecd6e",
   "metadata": {},
   "outputs": [
    {
     "data": {
      "text/plain": [
       "62.5"
      ]
     },
     "execution_count": 13,
     "metadata": {},
     "output_type": "execute_result"
    }
   ],
   "source": [
    "df['20CS601 CD'].mean()"
   ]
  },
  {
   "cell_type": "code",
   "execution_count": 14,
   "id": "dc519c1f",
   "metadata": {},
   "outputs": [
    {
     "data": {
      "text/plain": [
       "<AxesSubplot:xlabel='TOTAL', ylabel='M/F'>"
      ]
     },
     "execution_count": 14,
     "metadata": {},
     "output_type": "execute_result"
    },
    {
     "data": {
      "image/png": "[encoded data removed]",
      "text/plain": [
       "<Figure size 640x480 with 1 Axes>"
      ]
     },
     "metadata": {},
     "output_type": "display_data"
    }
   ],
   "source": [
    "sns.barplot(x='TOTAL',y='M/F',data=df)"
   ]
  },
  {
   "cell_type": "code",
   "execution_count": 15,
   "id": "4bc9f4d5",
   "metadata": {},
   "outputs": [
    {
     "data": {
      "text/plain": [
       "<AxesSubplot:xlabel='TOTAL', ylabel='D/H'>"
      ]
     },
     "execution_count": 15,
     "metadata": {},
     "output_type": "execute_result"
    },
    {
     "data": {
      "image/png": "[encoded data removed]",
      "text/plain": [
       "<Figure size 640x480 with 1 Axes>"
      ]
     },
     "metadata": {},
     "output_type": "display_data"
    }
   ],
   "source": [
    "sns.barplot(x='TOTAL',y='D/H',data=df)"
   ]
  },
  {
   "cell_type": "code",
   "execution_count": 19,
   "id": "a3ba34b2",
   "metadata": {},
   "outputs": [
    {
     "data": {
      "text/plain": [
       "<AxesSubplot:xlabel='20CS917 DS', ylabel='D/H'>"
      ]
     },
     "execution_count": 19,
     "metadata": {},
     "output_type": "execute_result"
    },
    {
     "data": {
      "image/png": "[encoded data removed]",
      "text/plain": [
       "<Figure size 640x480 with 1 Axes>"
      ]
     },
     "metadata": {},
     "output_type": "display_data"
    }
   ],
   "source": [
    "sns.barplot(x='20CS917 DS',y='D/H',data=df)"
   ]
  },
  {
   "cell_type": "code",
   "execution_count": 20,
   "id": "b4245f18",
   "metadata": {},
   "outputs": [
    {
     "data": {
      "text/plain": [
       "<AxesSubplot:xlabel='20CS917 DS', ylabel='M/F'>"
      ]
     },
     "execution_count": 20,
     "metadata": {},
     "output_type": "execute_result"
    },
    {
     "data": {
      "image/png": "[encoded data removed]",
      "text/plain": [
       "<Figure size 640x480 with 1 Axes>"
      ]
     },
     "metadata": {},
     "output_type": "display_data"
    }
   ],
   "source": [
    "sns.barplot(x='20CS917 DS',y='M/F',data=df)"
   ]
  },
  {
   "cell_type": "code",
   "execution_count": 21,
   "id": "8f851fd4",
   "metadata": {},
   "outputs": [
    {
     "data": {
      "text/plain": [
       "<AxesSubplot:xlabel='20CS917 DS', ylabel='M/F'>"
      ]
     },
     "execution_count": 21,
     "metadata": {},
     "output_type": "execute_result"
    },
    {
     "data": {
      "image/png": "[encoded data removed]",
      "text/plain": [
       "<Figure size 640x480 with 1 Axes>"
      ]
     },
     "metadata": {},
     "output_type": "display_data"
    }
   ],
   "source": [
    "sns.boxplot(x='20CS917 DS',y='M/F',data=df)"
   ]
  },
  {
   "cell_type": "code",
   "execution_count": 26,
   "id": "0832216a",
   "metadata": {},
   "outputs": [
    {
     "data": {
      "text/plain": [
       "<AxesSubplot:xlabel='M/F', ylabel='20CS917 DS'>"
      ]
     },
     "execution_count": 26,
     "metadata": {},
     "output_type": "execute_result"
    },
    {
     "data": {
      "image/png": "[encoded data removed]",
      "text/plain": [
       "<Figure size 2100x600 with 1 Axes>"
      ]
     },
     "metadata": {},
     "output_type": "display_data"
    }
   ],
   "source": [
    "plt.figure(figsize=(21,6))\n",
    "plt.subplot(1,3,1)\n",
    "sns.boxplot(x='M/F',y='20CS917 DS',data=df)"
   ]
  },
  {
   "cell_type": "code",
   "execution_count": 27,
   "id": "cd079ff3",
   "metadata": {},
   "outputs": [
    {
     "data": {
      "text/plain": [
       "<AxesSubplot:xlabel='M/F', ylabel='20AI502 ML'>"
      ]
     },
     "execution_count": 27,
     "metadata": {},
     "output_type": "execute_result"
    },
    {
     "data": {
      "image/png": "[encoded data removed]",
      "text/plain": [
       "<Figure size 2100x600 with 2 Axes>"
      ]
     },
     "metadata": {},
     "output_type": "display_data"
    }
   ],
   "source": [
    "plt.figure(figsize=(21,6))\n",
    "plt.subplot(1,3,1)\n",
    "sns.boxplot(x='M/F',y='20CS917 DS',data=df)\n",
    "plt.subplot(1,3,2)\n",
    "sns.boxplot(x='M/F',y='20AI502 ML',data=df)"
   ]
  },
  {
   "cell_type": "code",
   "execution_count": 29,
   "id": "754c84e2",
   "metadata": {},
   "outputs": [
    {
     "data": {
      "text/plain": [
       "<AxesSubplot:xlabel='TOTAL', ylabel='P / F'>"
      ]
     },
     "execution_count": 29,
     "metadata": {},
     "output_type": "execute_result"
    },
    {
     "data": {
      "image/png": "[encoded data removed]",
      "text/plain": [
       "<Figure size 640x480 with 1 Axes>"
      ]
     },
     "metadata": {},
     "output_type": "display_data"
    }
   ],
   "source": [
    "sns.barplot(x='TOTAL',y='P / F',data=df)"
   ]
  },
  {
   "cell_type": "code",
   "execution_count": 30,
   "id": "01f9f2cd",
   "metadata": {},
   "outputs": [],
   "source": [
    "def grade(mark):\n",
    "    if mark>90:\n",
    "        return 'O'\n",
    "    elif mark>80:\n",
    "        return 'A+'\n",
    "    elif mark>70:\n",
    "        return 'A'\n",
    "    elif mark>60:\n",
    "        return 'B+'\n",
    "    elif mark>50:\n",
    "        return 'B'\n",
    "    else:\n",
    "        return 'F'\n",
    "        \n"
   ]
  },
  {
   "cell_type": "code",
   "execution_count": 33,
   "id": "ee995fea",
   "metadata": {},
   "outputs": [],
   "source": [
    "df['grade']=df['20AI502 ML'].apply(grade)"
   ]
  },
  {
   "cell_type": "code",
   "execution_count": 34,
   "id": "e77cf354",
   "metadata": {},
   "outputs": [
    {
     "data": {
      "text/plain": [
       "<AxesSubplot:xlabel='20AI502 ML', ylabel='count'>"
      ]
     },
     "execution_count": 34,
     "metadata": {},
     "output_type": "execute_result"
    },
    {
     "data": {
      "image/png": "[encoded data removed]",
      "text/plain": [
       "<Figure size 640x480 with 1 Axes>"
      ]
     },
     "metadata": {},
     "output_type": "display_data"
    }
   ],
   "source": [
    "sns.countplot(x='20AI502 ML',data=df,order=['O,A+,A,B+,B'])\n",
    "plt.sghow()"
   ]
  },
  {
   "cell_type": "code",
   "execution_count": null,
   "id": "71e8c821",
   "metadata": {},
   "outputs": [],
   "source": []
  }
 ],
 "metadata": {
  "kernelspec": {
   "display_name": "Python 3 (ipykernel)",
   "language": "python",
   "name": "python3"
  },
  "language_info": {
   "codemirror_mode": {
    "name": "ipython",
    "version": 3
   },
   "file_extension": ".py",
   "mimetype": "text/x-python",
   "name": "python",
   "nbconvert_exporter": "python",
   "pygments_lexer": "ipython3",
   "version": "3.9.13"
  }
 },
 "nbformat": 4,
 "nbformat_minor": 5
}
