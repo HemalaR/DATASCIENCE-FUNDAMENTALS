{
 "cells": [
  {
   "cell_type": "code",
   "execution_count": 5,
   "id": "ddad00e1",
   "metadata": {},
   "outputs": [
    {
     "name": "stdout",
     "output_type": "stream",
     "text": [
      "[107.2087328]\n"
     ]
    },
    {
     "name": "stderr",
     "output_type": "stream",
     "text": [
      "C:\\ProgramData\\Anaconda3\\lib\\site-packages\\sklearn\\base.py:450: UserWarning: X does not have valid feature names, but LinearRegression was fitted with feature names\n",
      "  warnings.warn(\n"
     ]
    }
   ],
   "source": [
    "import pandas as pd\n",
    "from sklearn import linear_model\n",
    "\n",
    "df = pd.read_csv(\"C:/Users/student/Desktop/Car_CO2.csv\")\n",
    "\n",
    "x = df[['Weight','Volume']]\n",
    "y= df['CO2']\n",
    "\n",
    "regr = linear_model.LinearRegression()\n",
    "regr.fit(x,y)\n",
    "\n",
    "predictedCO2 = regr.predict([[2300,1300]])\n",
    "\n",
    "print(predictedCO2)"
   ]
  },
  {
   "cell_type": "code",
   "execution_count": 10,
   "id": "301e9eea",
   "metadata": {},
   "outputs": [
    {
     "name": "stdout",
     "output_type": "stream",
     "text": [
      "[107.2087328]\n",
      "[108.30200164]\n"
     ]
    },
    {
     "name": "stderr",
     "output_type": "stream",
     "text": [
      "C:\\ProgramData\\Anaconda3\\lib\\site-packages\\sklearn\\base.py:450: UserWarning: X does not have valid feature names, but LinearRegression was fitted with feature names\n",
      "  warnings.warn(\n",
      "C:\\ProgramData\\Anaconda3\\lib\\site-packages\\sklearn\\base.py:450: UserWarning: X does not have valid feature names, but LinearRegression was fitted with feature names\n",
      "  warnings.warn(\n"
     ]
    }
   ],
   "source": [
    "import pandas as pd\n",
    "from sklearn.model_selection import train_test_split\n",
    "from sklearn.linear_model import LinearRegression\n",
    "from sklearn import metrics\n",
    "\n",
    "\n",
    "x = df[['Weight','Volume']]\n",
    "y= df['CO2']\n",
    "\n",
    "regr = linear_model.LinearRegression()\n",
    "regr.fit(x,y)\n",
    "\n",
    "predictedCO2 = regr.predict([[2300,1300]])\n",
    "\n",
    "print(predictedCO2)\n",
    "\n",
    "x_train, x_test, y_train, y_test = train_test_split(x,y, test_size=0.2, random_state=42)\n",
    "\n",
    "model=LinearRegression()\n",
    "model.fit(x_train, y_train)\n",
    "\n",
    "y_pred=model.predict(x_test)\n",
    "y_pred=model.predict([[2300,1300]])\n",
    "print(y_pred)"
   ]
  },
  {
   "cell_type": "code",
   "execution_count": 15,
   "id": "4bb5d062",
   "metadata": {},
   "outputs": [
    {
     "name": "stdout",
     "output_type": "stream",
     "text": [
      "[107.2087328]\n",
      "[108.30200164]\n",
      "Mean Absolute Error: 6.335639624274501\n",
      "Mean Squared Error: 58.07928583657765\n",
      "Root mean squared Error: 7.620976698335827\n",
      "R2-score %.2f: 0.3294110962401282\n",
      "coefficient: [0.00804928 0.00428741]\n",
      "intercept: 84.21502006695282\n"
     ]
    },
    {
     "name": "stderr",
     "output_type": "stream",
     "text": [
      "C:\\ProgramData\\Anaconda3\\lib\\site-packages\\sklearn\\base.py:450: UserWarning: X does not have valid feature names, but LinearRegression was fitted with feature names\n",
      "  warnings.warn(\n",
      "C:\\ProgramData\\Anaconda3\\lib\\site-packages\\sklearn\\base.py:450: UserWarning: X does not have valid feature names, but LinearRegression was fitted with feature names\n",
      "  warnings.warn(\n"
     ]
    }
   ],
   "source": [
    "import pandas as pd\n",
    "from sklearn.model_selection import train_test_split\n",
    "from sklearn.linear_model import LinearRegression\n",
    "from sklearn import metrics\n",
    "\n",
    "\n",
    "x = df[['Weight','Volume']]\n",
    "y= df['CO2']\n",
    "\n",
    "regr = linear_model.LinearRegression()\n",
    "regr.fit(x,y)\n",
    "\n",
    "predictedCO2 = regr.predict([[2300,1300]])\n",
    "\n",
    "print(predictedCO2)\n",
    "\n",
    "X_train, X_test, Y_train, Y_test = train_test_split(x,y, test_size=0.2, random_state=42)\n",
    "\n",
    "model=LinearRegression()\n",
    "model.fit(X_train, Y_train)\n",
    "\n",
    "Y_pred = model.predict(X_test)\n",
    "y_pred = model.predict([[2300,1300]])\n",
    "print(y_pred)\n",
    "\n",
    "print('Mean Absolute Error:', metrics.mean_absolute_error(Y_test,Y_pred))\n",
    "print('Mean Squared Error:',metrics.mean_squared_error(Y_test,Y_pred))\n",
    "print('Root mean squared Error:',metrics.mean_squared_error(Y_test,Y_pred, squared=False))\n",
    "print('R2-score %.2f:',metrics.r2_score(Y_test,Y_pred))\n",
    "\n",
    "print('coefficient:',model.coef_)\n",
    "print('intercept:',model.intercept_)"
   ]
  },
  {
   "cell_type": "code",
   "execution_count": null,
   "id": "fbbaa423",
   "metadata": {},
   "outputs": [],
   "source": []
  }
 ],
 "metadata": {
  "kernelspec": {
   "display_name": "Python 3 (ipykernel)",
   "language": "python",
   "name": "python3"
  },
  "language_info": {
   "codemirror_mode": {
    "name": "ipython",
    "version": 3
   },
   "file_extension": ".py",
   "mimetype": "text/x-python",
   "name": "python",
   "nbconvert_exporter": "python",
   "pygments_lexer": "ipython3",
   "version": "3.9.12"
  }
 },
 "nbformat": 4,
 "nbformat_minor": 5
}
